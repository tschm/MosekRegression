{
 "cells": [
  {
   "cell_type": "code",
   "execution_count": 1,
   "metadata": {
    "collapsed": true
   },
   "outputs": [],
   "source": [
    "import os\n",
    "import pandas as pd\n",
    "\n",
    "from mosekTools.solver import lsq_pos as ll\n",
    "\n",
    "\n",
    "def lsq_pos(matrix, rhs):\n",
    "    return pd.Series(index=matrix.columns,\n",
    "                     data=ll(matrix.values, rhs.values))\n",
    "\n",
    "\n",
    "def Sharpe_Ratio(ts):\n",
    "    return 16 * ts.mean() / ts.std()"
   ]
  },
  {
   "cell_type": "code",
   "execution_count": 2,
   "metadata": {
    "collapsed": false
   },
   "outputs": [],
   "source": [
    "# load data from csv file\n",
    "data = pd.read_csv(os.path.join(\"data\", \"data.csv\"), index_col=0, parse_dates=True).ffill()\n",
    "returns = data.pct_change().fillna(0.0)\n",
    "\n",
    "stocks = [\"GOOG\", \"T\", \"AAPL\", \"GS\", \"IBM\"]\n",
    "index = \"^GSPC\""
   ]
  },
  {
   "cell_type": "code",
   "execution_count": 3,
   "metadata": {
    "collapsed": false
   },
   "outputs": [
    {
     "name": "stdout",
     "output_type": "stream",
     "text": [
      "Annualized Sharpe ratio\n",
      "1/N             0.895113\n",
      "Index           0.841828\n",
      "Min Variance    0.857319\n",
      "Tracking        0.580367\n",
      "dtype: float64\n",
      "Standard deviation of returns\n",
      "1/N             0.010229\n",
      "Index           0.010035\n",
      "Min Variance    0.008710\n",
      "Tracking        0.015660\n",
      "dtype: float64\n"
     ]
    }
   ],
   "source": [
    "# construct a rhs\n",
    "rhsZero = pd.Series(index=data.index, data=0.0)\n",
    "\n",
    "wMin = lsq_pos(matrix=data[stocks].pct_change().fillna(0.0), rhs=rhsZero)\n",
    "wTrack = lsq_pos(matrix=data[stocks], rhs=data[index])\n",
    "\n",
    "d = dict()\n",
    "d[\"Min Variance\"] = (returns[stocks] * wMin).sum(axis=1)\n",
    "d[\"Index\"] = returns[index]\n",
    "d[\"1/N\"] = returns[stocks].mean(axis=1)\n",
    "d[\"Tracking\"] = (returns[stocks] * wTrack).sum(axis=1)\n",
    "frame = pd.DataFrame(d)\n",
    "\n",
    "# apply some simple diagnostics\n",
    "print(\"Annualized Sharpe ratio\")\n",
    "print(frame.apply(Sharpe_Ratio))\n",
    "print(\"Standard deviation of returns\")\n",
    "print(frame.std())"
   ]
  },
  {
   "cell_type": "code",
   "execution_count": null,
   "metadata": {
    "collapsed": true
   },
   "outputs": [],
   "source": []
  }
 ],
 "metadata": {
  "kernelspec": {
   "display_name": "Python 3",
   "language": "python",
   "name": "python3"
  },
  "language_info": {
   "codemirror_mode": {
    "name": "ipython",
    "version": 3
   },
   "file_extension": ".py",
   "mimetype": "text/x-python",
   "name": "python",
   "nbconvert_exporter": "python",
   "pygments_lexer": "ipython3",
   "version": "3.5.2"
  }
 },
 "nbformat": 4,
 "nbformat_minor": 1
}
