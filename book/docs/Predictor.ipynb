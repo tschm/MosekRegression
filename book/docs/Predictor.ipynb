{
 "cells": [
  {
   "cell_type": "code",
   "execution_count": 4,
   "metadata": {
    "collapsed": false
   },
   "outputs": [],
   "source": [
    "import pandas as pd\n",
    "import numpy as np\n",
    "from mosekTools.solver import lasso as ll\n",
    "\n",
    "\n",
    "def normalize(ts):\n",
    "    return ts/np.linalg.norm(ts.values,2)\n",
    "\n",
    "\n",
    "def lasso(X, y, lamb):\n",
    "    return pd.Series(index=X.columns, data=ll(X.values, y.values, lamb))"
   ]
  },
  {
   "cell_type": "code",
   "execution_count": 5,
   "metadata": {
    "collapsed": false
   },
   "outputs": [
    {
     "name": "stdout",
     "output_type": "stream",
     "text": [
      "2    -6.176222e-02\n",
      "3     3.563169e-08\n",
      "5     9.700111e-07\n",
      "8     2.172137e-05\n",
      "13    3.731714e-02\n",
      "21    1.631824e-07\n",
      "34    1.139879e-07\n",
      "55   -3.839981e-08\n",
      "89   -1.590286e-02\n",
      "dtype: float64\n",
      "[[ 1.          0.05134544]\n",
      " [ 0.05134544  1.        ]]\n"
     ]
    }
   ],
   "source": [
    "    # load data from csv files\n",
    "    data = pd.read_csv(\"data/data.csv\", index_col=0, parse_dates=True)\n",
    "\n",
    "    stock = data[\"GS\"]\n",
    "    r = stock.pct_change()\n",
    "\n",
    "    X = pd.DataFrame({a: r.ewm(com=a, min_periods=30).mean() for a in [2, 3, 5, 8, 13, 21, 34, 55, 89]})\n",
    "\n",
    "    # shift returns as we are trying to predict the next day return...\n",
    "    y = r.shift(-1)\n",
    "\n",
    "    X = X.truncate(before=\"01-02-2010\").fillna(0.0)\n",
    "    y = y.truncate(before=\"01-02-2010\").fillna(0.0)\n",
    "\n",
    "    X = X.apply(normalize)\n",
    "    y = normalize(y)\n",
    "    w = lasso(X, y, 0.005)\n",
    "\n",
    "    print(w)\n",
    "    print(np.corrcoef((X*w).sum(axis=1), y))"
   ]
  },
  {
   "cell_type": "code",
   "execution_count": null,
   "metadata": {
    "collapsed": true
   },
   "outputs": [],
   "source": []
  }
 ],
 "metadata": {
  "kernelspec": {
   "display_name": "Python 3",
   "language": "python",
   "name": "python3"
  },
  "language_info": {
   "codemirror_mode": {
    "name": "ipython",
    "version": 3
   },
   "file_extension": ".py",
   "mimetype": "text/x-python",
   "name": "python",
   "nbconvert_exporter": "python",
   "pygments_lexer": "ipython3",
   "version": "3.5.2"
  }
 },
 "nbformat": 4,
 "nbformat_minor": 1
}
