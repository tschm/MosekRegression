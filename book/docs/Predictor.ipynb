{
 "cells": [
  {
   "cell_type": "markdown",
   "metadata": {
    "collapsed": false,
    "jupyter": {
     "outputs_hidden": false
    }
   },
   "source": [
    "# Predictor"
   ]
  },
  {
   "cell_type": "code",
   "execution_count": 1,
   "metadata": {
    "collapsed": false,
    "jupyter": {
     "outputs_hidden": false
    }
   },
   "outputs": [],
   "source": [
    "import pandas as pd\n",
    "import numpy as np\n",
    "from mosek_tools.solver import lasso as ll\n",
    "\n",
    "\n",
    "def normalize(ts):\n",
    "    return ts/np.linalg.norm(ts.values,2)\n",
    "\n",
    "\n",
    "def lasso(X, y, lamb):\n",
    "    return pd.Series(index=X.columns, data=ll(X.values, y.values, lamb))"
   ]
  },
  {
   "cell_type": "code",
   "execution_count": 2,
   "metadata": {
    "collapsed": false,
    "jupyter": {
     "outputs_hidden": false
    }
   },
   "outputs": [
    {
     "name": "stdout",
     "output_type": "stream",
     "text": [
      "2    -5.985250e-02\n",
      "3     1.807480e-08\n",
      "5     4.789660e-02\n",
      "8     7.004795e-08\n",
      "13   -2.242114e-08\n",
      "21   -4.242050e-03\n",
      "34   -4.630103e-03\n",
      "55   -1.816950e-08\n",
      "89   -7.477504e-09\n",
      "dtype: float64\n",
      "[[1.         0.03817378]\n",
      " [0.03817378 1.        ]]\n"
     ]
    }
   ],
   "source": [
    "    # load data from csv files\n",
    "    data = pd.read_csv(\"data/data.csv\", index_col=0, parse_dates=True)\n",
    "\n",
    "    stock = data[\"GS\"]\n",
    "    r = stock.pct_change()\n",
    "\n",
    "    X = pd.DataFrame({a: r.ewm(com=a, min_periods=30).mean() for a in [2, 3, 5, 8, 13, 21, 34, 55, 89]})\n",
    "\n",
    "    # shift returns as we are trying to predict the next day return...\n",
    "    y = r.shift(-1)\n",
    "\n",
    "    X = X.truncate(before=\"01-02-2010\").fillna(0.0)\n",
    "    y = y.truncate(before=\"01-02-2010\").fillna(0.0)\n",
    "\n",
    "    X = X.apply(normalize)\n",
    "    y = normalize(y)\n",
    "    w = lasso(X, y, 0.005)\n",
    "\n",
    "    print(w)\n",
    "    print(np.corrcoef((X*w).sum(axis=1), y))"
   ]
  },
  {
   "cell_type": "code",
   "execution_count": null,
   "metadata": {
    "collapsed": true,
    "jupyter": {
     "outputs_hidden": true
    }
   },
   "outputs": [],
   "source": []
  }
 ],
 "metadata": {
  "kernelspec": {
   "display_name": "mosek",
   "language": "python",
   "name": "mosek"
  },
  "language_info": {
   "codemirror_mode": {
    "name": "ipython",
    "version": 3
   },
   "file_extension": ".py",
   "mimetype": "text/x-python",
   "name": "python",
   "nbconvert_exporter": "python",
   "pygments_lexer": "ipython3",
   "version": "3.9.7"
  }
 },
 "nbformat": 4,
 "nbformat_minor": 4
}
